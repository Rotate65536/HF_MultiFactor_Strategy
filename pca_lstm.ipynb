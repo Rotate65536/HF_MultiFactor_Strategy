{
 "cells": [
  {
   "cell_type": "code",
   "execution_count": 1,
   "metadata": {
    "collapsed": true
   },
   "outputs": [
    {
     "name": "stdout",
     "output_type": "stream",
     "text": [
      "fc_df is <class 'pandas.core.frame.DataFrame'>\n"
     ]
    },
    {
     "data": {
      "text/plain": "             code       QUA          STD      SKEW      KURT       MTS  \\\n0     000001.XSHE  0.145441  1362.454294 -0.380878 -0.638227  0.251744   \n1     000002.XSHE  0.142786  1430.326218 -0.342911 -0.698062  0.236950   \n2     000004.XSHE  0.012160    69.216894  0.582719 -0.856209  0.079915   \n3     000005.XSHE  0.064005   432.373110 -0.067846 -0.994510  0.082098   \n4     000006.XSHE  0.053296   507.172876  0.082495 -0.984440  0.130100   \n...           ...       ...          ...       ...       ...       ...   \n4667  688799.XSHG  0.087123   756.774780  0.262463 -0.964982 -0.003504   \n4668  688800.XSHG  0.239602  2937.989502 -1.051542  2.061847  0.029186   \n4669  688819.XSHG  0.150901  1235.037598 -0.258241 -0.809394  0.109766   \n4670  688981.XSHG  0.202115  1711.586426 -0.509975 -0.501761  0.191117   \n4671  689009.XSHG  0.084552  1090.833862 -0.261946 -0.608775  0.043444   \n\n           MTE        SR        time  \n0     0.095193  0.121012  2019-01-29  \n1     0.014028  0.083860  2019-01-29  \n2     0.010859 -0.038136  2019-01-29  \n3     0.023157  0.217755  2019-01-29  \n4     0.030600  0.016365  2019-01-29  \n...        ...       ...         ...  \n4667  0.017580 -0.008545  2022-03-29  \n4668 -0.038931  0.009075  2022-03-29  \n4669 -0.039530 -0.006641  2022-03-29  \n4670  0.011038 -0.003010  2022-03-29  \n4671  0.096257 -0.000737  2022-03-29  \n\n[3085141 rows x 9 columns]",
      "text/html": "<div>\n<style scoped>\n    .dataframe tbody tr th:only-of-type {\n        vertical-align: middle;\n    }\n\n    .dataframe tbody tr th {\n        vertical-align: top;\n    }\n\n    .dataframe thead th {\n        text-align: right;\n    }\n</style>\n<table border=\"1\" class=\"dataframe\">\n  <thead>\n    <tr style=\"text-align: right;\">\n      <th></th>\n      <th>code</th>\n      <th>QUA</th>\n      <th>STD</th>\n      <th>SKEW</th>\n      <th>KURT</th>\n      <th>MTS</th>\n      <th>MTE</th>\n      <th>SR</th>\n      <th>time</th>\n    </tr>\n  </thead>\n  <tbody>\n    <tr>\n      <th>0</th>\n      <td>000001.XSHE</td>\n      <td>0.145441</td>\n      <td>1362.454294</td>\n      <td>-0.380878</td>\n      <td>-0.638227</td>\n      <td>0.251744</td>\n      <td>0.095193</td>\n      <td>0.121012</td>\n      <td>2019-01-29</td>\n    </tr>\n    <tr>\n      <th>1</th>\n      <td>000002.XSHE</td>\n      <td>0.142786</td>\n      <td>1430.326218</td>\n      <td>-0.342911</td>\n      <td>-0.698062</td>\n      <td>0.236950</td>\n      <td>0.014028</td>\n      <td>0.083860</td>\n      <td>2019-01-29</td>\n    </tr>\n    <tr>\n      <th>2</th>\n      <td>000004.XSHE</td>\n      <td>0.012160</td>\n      <td>69.216894</td>\n      <td>0.582719</td>\n      <td>-0.856209</td>\n      <td>0.079915</td>\n      <td>0.010859</td>\n      <td>-0.038136</td>\n      <td>2019-01-29</td>\n    </tr>\n    <tr>\n      <th>3</th>\n      <td>000005.XSHE</td>\n      <td>0.064005</td>\n      <td>432.373110</td>\n      <td>-0.067846</td>\n      <td>-0.994510</td>\n      <td>0.082098</td>\n      <td>0.023157</td>\n      <td>0.217755</td>\n      <td>2019-01-29</td>\n    </tr>\n    <tr>\n      <th>4</th>\n      <td>000006.XSHE</td>\n      <td>0.053296</td>\n      <td>507.172876</td>\n      <td>0.082495</td>\n      <td>-0.984440</td>\n      <td>0.130100</td>\n      <td>0.030600</td>\n      <td>0.016365</td>\n      <td>2019-01-29</td>\n    </tr>\n    <tr>\n      <th>...</th>\n      <td>...</td>\n      <td>...</td>\n      <td>...</td>\n      <td>...</td>\n      <td>...</td>\n      <td>...</td>\n      <td>...</td>\n      <td>...</td>\n      <td>...</td>\n    </tr>\n    <tr>\n      <th>4667</th>\n      <td>688799.XSHG</td>\n      <td>0.087123</td>\n      <td>756.774780</td>\n      <td>0.262463</td>\n      <td>-0.964982</td>\n      <td>-0.003504</td>\n      <td>0.017580</td>\n      <td>-0.008545</td>\n      <td>2022-03-29</td>\n    </tr>\n    <tr>\n      <th>4668</th>\n      <td>688800.XSHG</td>\n      <td>0.239602</td>\n      <td>2937.989502</td>\n      <td>-1.051542</td>\n      <td>2.061847</td>\n      <td>0.029186</td>\n      <td>-0.038931</td>\n      <td>0.009075</td>\n      <td>2022-03-29</td>\n    </tr>\n    <tr>\n      <th>4669</th>\n      <td>688819.XSHG</td>\n      <td>0.150901</td>\n      <td>1235.037598</td>\n      <td>-0.258241</td>\n      <td>-0.809394</td>\n      <td>0.109766</td>\n      <td>-0.039530</td>\n      <td>-0.006641</td>\n      <td>2022-03-29</td>\n    </tr>\n    <tr>\n      <th>4670</th>\n      <td>688981.XSHG</td>\n      <td>0.202115</td>\n      <td>1711.586426</td>\n      <td>-0.509975</td>\n      <td>-0.501761</td>\n      <td>0.191117</td>\n      <td>0.011038</td>\n      <td>-0.003010</td>\n      <td>2022-03-29</td>\n    </tr>\n    <tr>\n      <th>4671</th>\n      <td>689009.XSHG</td>\n      <td>0.084552</td>\n      <td>1090.833862</td>\n      <td>-0.261946</td>\n      <td>-0.608775</td>\n      <td>0.043444</td>\n      <td>0.096257</td>\n      <td>-0.000737</td>\n      <td>2022-03-29</td>\n    </tr>\n  </tbody>\n</table>\n<p>3085141 rows × 9 columns</p>\n</div>"
     },
     "execution_count": 1,
     "metadata": {},
     "output_type": "execute_result"
    }
   ],
   "source": [
    "import numpy as np\n",
    "import pandas as pd\n",
    "import os\n",
    "import matplotlib.pyplot as plt\n",
    "from sklearn import preprocessing\n",
    "from sklearn.preprocessing import MinMaxScaler\n",
    "from sklearn.decomposition import PCA\n",
    "from sklearn.linear_model import Lasso\n",
    "from functions import get_ohclv_df, get_fc_df\n",
    "\n",
    "# 日频多因子数据路径\n",
    "PATH_DAY_FREQ_FACTOR_DATA = 'data\\\\factor_mainforce\\\\'\n",
    "# 日频股票OHCLV价格数据路径\n",
    "PATH_DAY_FREQ_STOCK_DATA = 'data\\\\day_frequence_data\\\\'\n",
    "\n",
    "N_COM = 3\n",
    "WINDOW = 150\n",
    "# 设置调仓频率f\n",
    "FREQ = 30\n",
    "TRAIN_PORTION = 0.8\n",
    "\n",
    "# 获取因子组合数据\n",
    "fc_df = get_fc_df(PATH_DAY_FREQ_FACTOR_DATA)\n",
    "fc_df"
   ]
  },
  {
   "cell_type": "code",
   "execution_count": 2,
   "outputs": [
    {
     "name": "stdout",
     "output_type": "stream",
     "text": [
      "price_df is <class 'pandas.core.frame.DataFrame'>\n"
     ]
    },
    {
     "data": {
      "text/plain": "code        000001.XSHE  000002.XSHE  000004.XSHE  000005.XSHE  000006.XSHE  \\\ntime                                                                          \n2019-01-02      1079.71      3169.04       119.58        27.30       229.05   \n2019-01-03      1090.29      3191.59       121.00        27.40       229.05   \n2019-01-04      1145.51      3305.62       123.60        28.11       233.94   \n2019-01-07      1144.33      3321.53       128.22        29.03       237.50   \n2019-01-08      1134.93      3314.90       125.17        28.93       236.61   \n...                 ...          ...          ...          ...          ...   \n2022-09-22      1522.85      2809.30        67.39        18.09       219.60   \n2022-09-23      1522.84      2812.51        64.48        18.20       220.62   \n2022-09-26      1486.92      2801.27        62.10        17.28       214.54   \n2022-09-27      1505.50      2826.97        63.81        17.48       217.58   \n2022-09-28      1500.55      2804.48        63.14        17.17       211.00   \n\ncode        000007.XSHE  000008.XSHE  000009.XSHE  000010.XSHE  000011.XSHE  \\\ntime                                                                          \n2019-01-02        97.89       103.68        35.78        43.60        34.06   \n2019-01-03        94.39       102.61        35.28        43.60        34.32   \n2019-01-04        96.44       104.48        36.36        44.13        34.90   \n2019-01-07        97.16       108.76        37.02        45.20        35.82   \n2019-01-08        94.63       110.63        37.61        44.80        35.56   \n...                 ...          ...          ...          ...          ...   \n2022-09-22        95.48        61.83       126.01        44.80        42.52   \n2022-09-23        95.48        61.29       122.69        45.86        41.96   \n2022-09-26        92.22        59.68       120.68        44.00        40.51   \n2022-09-27        94.87        61.29       122.19        44.93        40.90   \n2022-09-28        94.27        60.22       116.05        43.60        39.92   \n\ncode        ...  688787.XSHG  688788.XSHG  688789.XSHG  688793.XSHG  \\\ntime        ...                                                       \n2019-01-02  ...          NaN          NaN          NaN          NaN   \n2019-01-03  ...          NaN          NaN          NaN          NaN   \n2019-01-04  ...          NaN          NaN          NaN          NaN   \n2019-01-07  ...          NaN          NaN          NaN          NaN   \n2019-01-08  ...          NaN          NaN          NaN          NaN   \n...         ...          ...          ...          ...          ...   \n2022-09-22  ...        51.77        57.57       166.77        36.44   \n2022-09-23  ...        52.07        55.89       158.13        34.91   \n2022-09-26  ...        50.22        53.37       155.80        36.56   \n2022-09-27  ...        51.26        55.56       164.68        40.27   \n2022-09-28  ...        49.95        53.13       159.62        40.74   \n\ncode        688798.XSHG  688799.XSHG  688800.XSHG  688819.XSHG  688981.XSHG  \\\ntime                                                                          \n2019-01-02          NaN          NaN          NaN          NaN          NaN   \n2019-01-03          NaN          NaN          NaN          NaN          NaN   \n2019-01-04          NaN          NaN          NaN          NaN          NaN   \n2019-01-07          NaN          NaN          NaN          NaN          NaN   \n2019-01-08          NaN          NaN          NaN          NaN          NaN   \n...                 ...          ...          ...          ...          ...   \n2022-09-22        95.40        31.63       139.55        37.07        38.45   \n2022-09-23        91.03        30.78       132.95        35.66        38.14   \n2022-09-26        95.42        30.46       136.40        36.34        37.47   \n2022-09-27        95.70        31.32       135.96        37.03        38.37   \n2022-09-28        92.50        31.22       131.83        35.62        37.79   \n\ncode        689009.XSHG  \ntime                     \n2019-01-02          NaN  \n2019-01-03          NaN  \n2019-01-04          NaN  \n2019-01-07          NaN  \n2019-01-08          NaN  \n...                 ...  \n2022-09-22        38.91  \n2022-09-23        38.12  \n2022-09-26        38.60  \n2022-09-27        39.68  \n2022-09-28        38.35  \n\n[910 rows x 4912 columns]",
      "text/html": "<div>\n<style scoped>\n    .dataframe tbody tr th:only-of-type {\n        vertical-align: middle;\n    }\n\n    .dataframe tbody tr th {\n        vertical-align: top;\n    }\n\n    .dataframe thead th {\n        text-align: right;\n    }\n</style>\n<table border=\"1\" class=\"dataframe\">\n  <thead>\n    <tr style=\"text-align: right;\">\n      <th>code</th>\n      <th>000001.XSHE</th>\n      <th>000002.XSHE</th>\n      <th>000004.XSHE</th>\n      <th>000005.XSHE</th>\n      <th>000006.XSHE</th>\n      <th>000007.XSHE</th>\n      <th>000008.XSHE</th>\n      <th>000009.XSHE</th>\n      <th>000010.XSHE</th>\n      <th>000011.XSHE</th>\n      <th>...</th>\n      <th>688787.XSHG</th>\n      <th>688788.XSHG</th>\n      <th>688789.XSHG</th>\n      <th>688793.XSHG</th>\n      <th>688798.XSHG</th>\n      <th>688799.XSHG</th>\n      <th>688800.XSHG</th>\n      <th>688819.XSHG</th>\n      <th>688981.XSHG</th>\n      <th>689009.XSHG</th>\n    </tr>\n    <tr>\n      <th>time</th>\n      <th></th>\n      <th></th>\n      <th></th>\n      <th></th>\n      <th></th>\n      <th></th>\n      <th></th>\n      <th></th>\n      <th></th>\n      <th></th>\n      <th></th>\n      <th></th>\n      <th></th>\n      <th></th>\n      <th></th>\n      <th></th>\n      <th></th>\n      <th></th>\n      <th></th>\n      <th></th>\n      <th></th>\n    </tr>\n  </thead>\n  <tbody>\n    <tr>\n      <th>2019-01-02</th>\n      <td>1079.71</td>\n      <td>3169.04</td>\n      <td>119.58</td>\n      <td>27.30</td>\n      <td>229.05</td>\n      <td>97.89</td>\n      <td>103.68</td>\n      <td>35.78</td>\n      <td>43.60</td>\n      <td>34.06</td>\n      <td>...</td>\n      <td>NaN</td>\n      <td>NaN</td>\n      <td>NaN</td>\n      <td>NaN</td>\n      <td>NaN</td>\n      <td>NaN</td>\n      <td>NaN</td>\n      <td>NaN</td>\n      <td>NaN</td>\n      <td>NaN</td>\n    </tr>\n    <tr>\n      <th>2019-01-03</th>\n      <td>1090.29</td>\n      <td>3191.59</td>\n      <td>121.00</td>\n      <td>27.40</td>\n      <td>229.05</td>\n      <td>94.39</td>\n      <td>102.61</td>\n      <td>35.28</td>\n      <td>43.60</td>\n      <td>34.32</td>\n      <td>...</td>\n      <td>NaN</td>\n      <td>NaN</td>\n      <td>NaN</td>\n      <td>NaN</td>\n      <td>NaN</td>\n      <td>NaN</td>\n      <td>NaN</td>\n      <td>NaN</td>\n      <td>NaN</td>\n      <td>NaN</td>\n    </tr>\n    <tr>\n      <th>2019-01-04</th>\n      <td>1145.51</td>\n      <td>3305.62</td>\n      <td>123.60</td>\n      <td>28.11</td>\n      <td>233.94</td>\n      <td>96.44</td>\n      <td>104.48</td>\n      <td>36.36</td>\n      <td>44.13</td>\n      <td>34.90</td>\n      <td>...</td>\n      <td>NaN</td>\n      <td>NaN</td>\n      <td>NaN</td>\n      <td>NaN</td>\n      <td>NaN</td>\n      <td>NaN</td>\n      <td>NaN</td>\n      <td>NaN</td>\n      <td>NaN</td>\n      <td>NaN</td>\n    </tr>\n    <tr>\n      <th>2019-01-07</th>\n      <td>1144.33</td>\n      <td>3321.53</td>\n      <td>128.22</td>\n      <td>29.03</td>\n      <td>237.50</td>\n      <td>97.16</td>\n      <td>108.76</td>\n      <td>37.02</td>\n      <td>45.20</td>\n      <td>35.82</td>\n      <td>...</td>\n      <td>NaN</td>\n      <td>NaN</td>\n      <td>NaN</td>\n      <td>NaN</td>\n      <td>NaN</td>\n      <td>NaN</td>\n      <td>NaN</td>\n      <td>NaN</td>\n      <td>NaN</td>\n      <td>NaN</td>\n    </tr>\n    <tr>\n      <th>2019-01-08</th>\n      <td>1134.93</td>\n      <td>3314.90</td>\n      <td>125.17</td>\n      <td>28.93</td>\n      <td>236.61</td>\n      <td>94.63</td>\n      <td>110.63</td>\n      <td>37.61</td>\n      <td>44.80</td>\n      <td>35.56</td>\n      <td>...</td>\n      <td>NaN</td>\n      <td>NaN</td>\n      <td>NaN</td>\n      <td>NaN</td>\n      <td>NaN</td>\n      <td>NaN</td>\n      <td>NaN</td>\n      <td>NaN</td>\n      <td>NaN</td>\n      <td>NaN</td>\n    </tr>\n    <tr>\n      <th>...</th>\n      <td>...</td>\n      <td>...</td>\n      <td>...</td>\n      <td>...</td>\n      <td>...</td>\n      <td>...</td>\n      <td>...</td>\n      <td>...</td>\n      <td>...</td>\n      <td>...</td>\n      <td>...</td>\n      <td>...</td>\n      <td>...</td>\n      <td>...</td>\n      <td>...</td>\n      <td>...</td>\n      <td>...</td>\n      <td>...</td>\n      <td>...</td>\n      <td>...</td>\n      <td>...</td>\n    </tr>\n    <tr>\n      <th>2022-09-22</th>\n      <td>1522.85</td>\n      <td>2809.30</td>\n      <td>67.39</td>\n      <td>18.09</td>\n      <td>219.60</td>\n      <td>95.48</td>\n      <td>61.83</td>\n      <td>126.01</td>\n      <td>44.80</td>\n      <td>42.52</td>\n      <td>...</td>\n      <td>51.77</td>\n      <td>57.57</td>\n      <td>166.77</td>\n      <td>36.44</td>\n      <td>95.40</td>\n      <td>31.63</td>\n      <td>139.55</td>\n      <td>37.07</td>\n      <td>38.45</td>\n      <td>38.91</td>\n    </tr>\n    <tr>\n      <th>2022-09-23</th>\n      <td>1522.84</td>\n      <td>2812.51</td>\n      <td>64.48</td>\n      <td>18.20</td>\n      <td>220.62</td>\n      <td>95.48</td>\n      <td>61.29</td>\n      <td>122.69</td>\n      <td>45.86</td>\n      <td>41.96</td>\n      <td>...</td>\n      <td>52.07</td>\n      <td>55.89</td>\n      <td>158.13</td>\n      <td>34.91</td>\n      <td>91.03</td>\n      <td>30.78</td>\n      <td>132.95</td>\n      <td>35.66</td>\n      <td>38.14</td>\n      <td>38.12</td>\n    </tr>\n    <tr>\n      <th>2022-09-26</th>\n      <td>1486.92</td>\n      <td>2801.27</td>\n      <td>62.10</td>\n      <td>17.28</td>\n      <td>214.54</td>\n      <td>92.22</td>\n      <td>59.68</td>\n      <td>120.68</td>\n      <td>44.00</td>\n      <td>40.51</td>\n      <td>...</td>\n      <td>50.22</td>\n      <td>53.37</td>\n      <td>155.80</td>\n      <td>36.56</td>\n      <td>95.42</td>\n      <td>30.46</td>\n      <td>136.40</td>\n      <td>36.34</td>\n      <td>37.47</td>\n      <td>38.60</td>\n    </tr>\n    <tr>\n      <th>2022-09-27</th>\n      <td>1505.50</td>\n      <td>2826.97</td>\n      <td>63.81</td>\n      <td>17.48</td>\n      <td>217.58</td>\n      <td>94.87</td>\n      <td>61.29</td>\n      <td>122.19</td>\n      <td>44.93</td>\n      <td>40.90</td>\n      <td>...</td>\n      <td>51.26</td>\n      <td>55.56</td>\n      <td>164.68</td>\n      <td>40.27</td>\n      <td>95.70</td>\n      <td>31.32</td>\n      <td>135.96</td>\n      <td>37.03</td>\n      <td>38.37</td>\n      <td>39.68</td>\n    </tr>\n    <tr>\n      <th>2022-09-28</th>\n      <td>1500.55</td>\n      <td>2804.48</td>\n      <td>63.14</td>\n      <td>17.17</td>\n      <td>211.00</td>\n      <td>94.27</td>\n      <td>60.22</td>\n      <td>116.05</td>\n      <td>43.60</td>\n      <td>39.92</td>\n      <td>...</td>\n      <td>49.95</td>\n      <td>53.13</td>\n      <td>159.62</td>\n      <td>40.74</td>\n      <td>92.50</td>\n      <td>31.22</td>\n      <td>131.83</td>\n      <td>35.62</td>\n      <td>37.79</td>\n      <td>38.35</td>\n    </tr>\n  </tbody>\n</table>\n<p>910 rows × 4912 columns</p>\n</div>"
     },
     "execution_count": 2,
     "metadata": {},
     "output_type": "execute_result"
    }
   ],
   "source": [
    "price_df = get_ohclv_df(PATH_DAY_FREQ_STOCK_DATA)\n",
    "price_df"
   ],
   "metadata": {
    "collapsed": false,
    "pycharm": {
     "name": "#%% 获取OHCLV价格数据price\n"
    }
   }
  },
  {
   "cell_type": "code",
   "execution_count": 3,
   "outputs": [
    {
     "name": "stdout",
     "output_type": "stream",
     "text": [
      "<class 'pandas.core.frame.DataFrame'>\n"
     ]
    },
    {
     "data": {
      "text/plain": "                 QUA         STD      SKEW      KURT       MTE        SR\ntime                                                                    \n2019-01-30  0.089881  594.169019 -0.140669 -0.763749  0.022486  0.040221\n2019-01-31  0.090049  596.527410 -0.141352 -0.763943  0.018227  0.037384\n2019-02-01  0.089309  592.014104 -0.136241 -0.765151  0.016804  0.033003\n2019-02-11  0.088529  587.624511 -0.131105 -0.768227  0.017045  0.032971\n2019-02-12  0.088883  592.491004 -0.133817 -0.768220  0.017296  0.035229\n...              ...         ...       ...       ...       ...       ...\n2022-03-24  0.102183  552.385530 -0.199904 -0.704968  0.022813  0.037407\n2022-03-25  0.102163  551.595571 -0.200140 -0.703880  0.021753  0.035606\n2022-03-28  0.102211  549.869919 -0.201251 -0.702263  0.019841  0.036795\n2022-03-29  0.096644  512.058432 -0.176433 -0.687534  0.019670 -0.001334\n2019-01-29  0.090098  593.834685 -0.142117 -0.762891  0.025557  0.041431\n\n[766 rows x 6 columns]",
      "text/html": "<div>\n<style scoped>\n    .dataframe tbody tr th:only-of-type {\n        vertical-align: middle;\n    }\n\n    .dataframe tbody tr th {\n        vertical-align: top;\n    }\n\n    .dataframe thead th {\n        text-align: right;\n    }\n</style>\n<table border=\"1\" class=\"dataframe\">\n  <thead>\n    <tr style=\"text-align: right;\">\n      <th></th>\n      <th>QUA</th>\n      <th>STD</th>\n      <th>SKEW</th>\n      <th>KURT</th>\n      <th>MTE</th>\n      <th>SR</th>\n    </tr>\n    <tr>\n      <th>time</th>\n      <th></th>\n      <th></th>\n      <th></th>\n      <th></th>\n      <th></th>\n      <th></th>\n    </tr>\n  </thead>\n  <tbody>\n    <tr>\n      <th>2019-01-30</th>\n      <td>0.089881</td>\n      <td>594.169019</td>\n      <td>-0.140669</td>\n      <td>-0.763749</td>\n      <td>0.022486</td>\n      <td>0.040221</td>\n    </tr>\n    <tr>\n      <th>2019-01-31</th>\n      <td>0.090049</td>\n      <td>596.527410</td>\n      <td>-0.141352</td>\n      <td>-0.763943</td>\n      <td>0.018227</td>\n      <td>0.037384</td>\n    </tr>\n    <tr>\n      <th>2019-02-01</th>\n      <td>0.089309</td>\n      <td>592.014104</td>\n      <td>-0.136241</td>\n      <td>-0.765151</td>\n      <td>0.016804</td>\n      <td>0.033003</td>\n    </tr>\n    <tr>\n      <th>2019-02-11</th>\n      <td>0.088529</td>\n      <td>587.624511</td>\n      <td>-0.131105</td>\n      <td>-0.768227</td>\n      <td>0.017045</td>\n      <td>0.032971</td>\n    </tr>\n    <tr>\n      <th>2019-02-12</th>\n      <td>0.088883</td>\n      <td>592.491004</td>\n      <td>-0.133817</td>\n      <td>-0.768220</td>\n      <td>0.017296</td>\n      <td>0.035229</td>\n    </tr>\n    <tr>\n      <th>...</th>\n      <td>...</td>\n      <td>...</td>\n      <td>...</td>\n      <td>...</td>\n      <td>...</td>\n      <td>...</td>\n    </tr>\n    <tr>\n      <th>2022-03-24</th>\n      <td>0.102183</td>\n      <td>552.385530</td>\n      <td>-0.199904</td>\n      <td>-0.704968</td>\n      <td>0.022813</td>\n      <td>0.037407</td>\n    </tr>\n    <tr>\n      <th>2022-03-25</th>\n      <td>0.102163</td>\n      <td>551.595571</td>\n      <td>-0.200140</td>\n      <td>-0.703880</td>\n      <td>0.021753</td>\n      <td>0.035606</td>\n    </tr>\n    <tr>\n      <th>2022-03-28</th>\n      <td>0.102211</td>\n      <td>549.869919</td>\n      <td>-0.201251</td>\n      <td>-0.702263</td>\n      <td>0.019841</td>\n      <td>0.036795</td>\n    </tr>\n    <tr>\n      <th>2022-03-29</th>\n      <td>0.096644</td>\n      <td>512.058432</td>\n      <td>-0.176433</td>\n      <td>-0.687534</td>\n      <td>0.019670</td>\n      <td>-0.001334</td>\n    </tr>\n    <tr>\n      <th>2019-01-29</th>\n      <td>0.090098</td>\n      <td>593.834685</td>\n      <td>-0.142117</td>\n      <td>-0.762891</td>\n      <td>0.025557</td>\n      <td>0.041431</td>\n    </tr>\n  </tbody>\n</table>\n<p>766 rows × 6 columns</p>\n</div>"
     },
     "execution_count": 3,
     "metadata": {},
     "output_type": "execute_result"
    }
   ],
   "source": [
    "fc_mean_dfg = fc_df[['time', 'QUA', 'STD', 'SKEW', 'KURT', 'MTE', 'SR']]\n",
    "fc_mean_dfg = fc_mean_dfg.groupby(['time']).mean()\n",
    "print(type(fc_mean_dfg))\n",
    "fc_mean_dfg"
   ],
   "metadata": {
    "collapsed": false,
    "pycharm": {
     "name": "#%% 训练模型使用整个股票池，故对所有股票价格求和, 对每个因子所有股票的因子值求和, 并去除mts因子\n"
    }
   }
  },
  {
   "cell_type": "code",
   "execution_count": 4,
   "outputs": [
    {
     "name": "stdout",
     "output_type": "stream",
     "text": [
      "<class 'pandas.core.series.Series'>\n"
     ]
    },
    {
     "data": {
      "text/plain": "time\n2019-01-02    269961.67\n2019-01-03    267928.39\n2019-01-04    274734.30\n2019-01-07    279583.96\n2019-01-08    279167.27\n                ...    \n2022-09-22    457746.50\n2022-09-23    450770.95\n2022-09-26    446415.03\n2022-09-27    455579.90\n2022-09-28    446857.32\nLength: 910, dtype: float64"
     },
     "execution_count": 4,
     "metadata": {},
     "output_type": "execute_result"
    }
   ],
   "source": [
    "price_sum_df = price_df.sum(axis=1)\n",
    "print(type(price_sum_df))\n",
    "price_sum_df"
   ],
   "metadata": {
    "collapsed": false,
    "pycharm": {
     "name": "#%%\n"
    }
   }
  },
  {
   "cell_type": "code",
   "execution_count": 5,
   "outputs": [
    {
     "data": {
      "text/plain": "                    0\ntime                 \n2019-01-29  278429.84\n2019-01-30  275061.07\n2019-01-31  272582.08\n2019-02-01  276123.50\n2019-02-11  283058.29\n...               ...\n2022-03-23  471747.89\n2022-03-24  466707.11\n2022-03-25  461715.64\n2022-03-28  458833.83\n2022-03-29  454987.13\n\n[766 rows x 1 columns]",
      "text/html": "<div>\n<style scoped>\n    .dataframe tbody tr th:only-of-type {\n        vertical-align: middle;\n    }\n\n    .dataframe tbody tr th {\n        vertical-align: top;\n    }\n\n    .dataframe thead th {\n        text-align: right;\n    }\n</style>\n<table border=\"1\" class=\"dataframe\">\n  <thead>\n    <tr style=\"text-align: right;\">\n      <th></th>\n      <th>0</th>\n    </tr>\n    <tr>\n      <th>time</th>\n      <th></th>\n    </tr>\n  </thead>\n  <tbody>\n    <tr>\n      <th>2019-01-29</th>\n      <td>278429.84</td>\n    </tr>\n    <tr>\n      <th>2019-01-30</th>\n      <td>275061.07</td>\n    </tr>\n    <tr>\n      <th>2019-01-31</th>\n      <td>272582.08</td>\n    </tr>\n    <tr>\n      <th>2019-02-01</th>\n      <td>276123.50</td>\n    </tr>\n    <tr>\n      <th>2019-02-11</th>\n      <td>283058.29</td>\n    </tr>\n    <tr>\n      <th>...</th>\n      <td>...</td>\n    </tr>\n    <tr>\n      <th>2022-03-23</th>\n      <td>471747.89</td>\n    </tr>\n    <tr>\n      <th>2022-03-24</th>\n      <td>466707.11</td>\n    </tr>\n    <tr>\n      <th>2022-03-25</th>\n      <td>461715.64</td>\n    </tr>\n    <tr>\n      <th>2022-03-28</th>\n      <td>458833.83</td>\n    </tr>\n    <tr>\n      <th>2022-03-29</th>\n      <td>454987.13</td>\n    </tr>\n  </tbody>\n</table>\n<p>766 rows × 1 columns</p>\n</div>"
     },
     "execution_count": 5,
     "metadata": {},
     "output_type": "execute_result"
    }
   ],
   "source": [
    "merge1 = price_sum_df.reset_index()\n",
    "merge1['time'] = merge1['time'].astype('str')\n",
    "merge2 = fc_mean_dfg.reset_index()\n",
    "merge2['time'] = merge2['time'].astype('str')\n",
    "all_data = pd.merge(merge1, merge2, on=['time'])\n",
    "all_data.keys()\n",
    "price_sum_df = all_data[['time', 0]]\n",
    "fc_mean_dfg = all_data[['time', 'QUA', 'STD', 'SKEW', 'KURT', 'MTE', 'SR']]\n",
    "price_sum_df = price_sum_df.set_index('time')\n",
    "price_sum_df"
   ],
   "metadata": {
    "collapsed": false,
    "pycharm": {
     "name": "#%% 防止因子数据和价格数据的日期索引范围不同, 取交集, 然后分开\n"
    }
   }
  },
  {
   "cell_type": "code",
   "execution_count": 6,
   "outputs": [
    {
     "data": {
      "text/plain": "                 QUA         STD      SKEW      KURT       MTE        SR\ntime                                                                    \n2019-01-29  0.090098  593.834685 -0.142117 -0.762891  0.025557  0.041431\n2019-01-30  0.089881  594.169019 -0.140669 -0.763749  0.022486  0.040221\n2019-01-31  0.090049  596.527410 -0.141352 -0.763943  0.018227  0.037384\n2019-02-01  0.089309  592.014104 -0.136241 -0.765151  0.016804  0.033003\n2019-02-11  0.088529  587.624511 -0.131105 -0.768227  0.017045  0.032971\n...              ...         ...       ...       ...       ...       ...\n2022-03-23  0.103399  558.029492 -0.206645 -0.703281  0.023424  0.030791\n2022-03-24  0.102183  552.385530 -0.199904 -0.704968  0.022813  0.037407\n2022-03-25  0.102163  551.595571 -0.200140 -0.703880  0.021753  0.035606\n2022-03-28  0.102211  549.869919 -0.201251 -0.702263  0.019841  0.036795\n2022-03-29  0.096644  512.058432 -0.176433 -0.687534  0.019670 -0.001334\n\n[766 rows x 6 columns]",
      "text/html": "<div>\n<style scoped>\n    .dataframe tbody tr th:only-of-type {\n        vertical-align: middle;\n    }\n\n    .dataframe tbody tr th {\n        vertical-align: top;\n    }\n\n    .dataframe thead th {\n        text-align: right;\n    }\n</style>\n<table border=\"1\" class=\"dataframe\">\n  <thead>\n    <tr style=\"text-align: right;\">\n      <th></th>\n      <th>QUA</th>\n      <th>STD</th>\n      <th>SKEW</th>\n      <th>KURT</th>\n      <th>MTE</th>\n      <th>SR</th>\n    </tr>\n    <tr>\n      <th>time</th>\n      <th></th>\n      <th></th>\n      <th></th>\n      <th></th>\n      <th></th>\n      <th></th>\n    </tr>\n  </thead>\n  <tbody>\n    <tr>\n      <th>2019-01-29</th>\n      <td>0.090098</td>\n      <td>593.834685</td>\n      <td>-0.142117</td>\n      <td>-0.762891</td>\n      <td>0.025557</td>\n      <td>0.041431</td>\n    </tr>\n    <tr>\n      <th>2019-01-30</th>\n      <td>0.089881</td>\n      <td>594.169019</td>\n      <td>-0.140669</td>\n      <td>-0.763749</td>\n      <td>0.022486</td>\n      <td>0.040221</td>\n    </tr>\n    <tr>\n      <th>2019-01-31</th>\n      <td>0.090049</td>\n      <td>596.527410</td>\n      <td>-0.141352</td>\n      <td>-0.763943</td>\n      <td>0.018227</td>\n      <td>0.037384</td>\n    </tr>\n    <tr>\n      <th>2019-02-01</th>\n      <td>0.089309</td>\n      <td>592.014104</td>\n      <td>-0.136241</td>\n      <td>-0.765151</td>\n      <td>0.016804</td>\n      <td>0.033003</td>\n    </tr>\n    <tr>\n      <th>2019-02-11</th>\n      <td>0.088529</td>\n      <td>587.624511</td>\n      <td>-0.131105</td>\n      <td>-0.768227</td>\n      <td>0.017045</td>\n      <td>0.032971</td>\n    </tr>\n    <tr>\n      <th>...</th>\n      <td>...</td>\n      <td>...</td>\n      <td>...</td>\n      <td>...</td>\n      <td>...</td>\n      <td>...</td>\n    </tr>\n    <tr>\n      <th>2022-03-23</th>\n      <td>0.103399</td>\n      <td>558.029492</td>\n      <td>-0.206645</td>\n      <td>-0.703281</td>\n      <td>0.023424</td>\n      <td>0.030791</td>\n    </tr>\n    <tr>\n      <th>2022-03-24</th>\n      <td>0.102183</td>\n      <td>552.385530</td>\n      <td>-0.199904</td>\n      <td>-0.704968</td>\n      <td>0.022813</td>\n      <td>0.037407</td>\n    </tr>\n    <tr>\n      <th>2022-03-25</th>\n      <td>0.102163</td>\n      <td>551.595571</td>\n      <td>-0.200140</td>\n      <td>-0.703880</td>\n      <td>0.021753</td>\n      <td>0.035606</td>\n    </tr>\n    <tr>\n      <th>2022-03-28</th>\n      <td>0.102211</td>\n      <td>549.869919</td>\n      <td>-0.201251</td>\n      <td>-0.702263</td>\n      <td>0.019841</td>\n      <td>0.036795</td>\n    </tr>\n    <tr>\n      <th>2022-03-29</th>\n      <td>0.096644</td>\n      <td>512.058432</td>\n      <td>-0.176433</td>\n      <td>-0.687534</td>\n      <td>0.019670</td>\n      <td>-0.001334</td>\n    </tr>\n  </tbody>\n</table>\n<p>766 rows × 6 columns</p>\n</div>"
     },
     "execution_count": 6,
     "metadata": {},
     "output_type": "execute_result"
    }
   ],
   "source": [
    "fc_mean_dfg = fc_mean_dfg.set_index('time')\n",
    "fc_mean_dfg\n"
   ],
   "metadata": {
    "collapsed": false,
    "pycharm": {
     "name": "#%%\n"
    }
   }
  },
  {
   "cell_type": "code",
   "execution_count": 7,
   "outputs": [
    {
     "name": "stdout",
     "output_type": "stream",
     "text": [
      "before Z-score, fc_np.shape = (766, 6)\n",
      "before Z-score, zs_fc_np.shape = (766, 6)\n",
      "\n",
      "before Min-Max, fc_np.shape = (766, 6)\n",
      "before Min-Max, mm_fc_np.shape = (766, 6)\n"
     ]
    }
   ],
   "source": [
    "fc_np = np.array(fc_mean_dfg)\n",
    "\n",
    "zs_fc_np = preprocessing.scale(fc_np)\n",
    "print(f'before Z-score, fc_np.shape = {fc_np.shape}')\n",
    "# print(fc_np)\n",
    "print(f'before Z-score, zs_fc_np.shape = {zs_fc_np.shape}')\n",
    "# print(zs_fc_np)\n",
    "\n",
    "sc = MinMaxScaler()\n",
    "mm_fc_np = sc.fit_transform(fc_np)\n",
    "print(f'\\nbefore Min-Max, fc_np.shape = {fc_np.shape}')\n",
    "# print(fc_np)\n",
    "print(f'before Min-Max, mm_fc_np.shape = {mm_fc_np.shape}')\n",
    "# print(mm_fc_np)"
   ],
   "metadata": {
    "collapsed": false,
    "pycharm": {
     "name": "#%% Z-score对因子数据标准化 或 Max_min归一化\n"
    }
   }
  },
  {
   "cell_type": "code",
   "execution_count": 8,
   "outputs": [
    {
     "name": "stdout",
     "output_type": "stream",
     "text": [
      "(766, 1)\n",
      "\n",
      "before Min-Max, mm_price_np.shape = (766, 1)\n",
      "before Min-Max, mm_price_np.shape = (766, 1)\n"
     ]
    }
   ],
   "source": [
    "price_np = np.array(price_sum_df)\n",
    "# print(price_np)\n",
    "return_rate_np = price_np.copy()\n",
    "return_rate_np[0] = 0\n",
    "begin_close_price = price_np[0]\n",
    "for i in range(1, price_np.shape[0]):\n",
    "    if i < FREQ:\n",
    "        basic_price = begin_close_price\n",
    "    else:\n",
    "        basic_price = price_np[i - FREQ]\n",
    "    return_rate_np[i] = (price_np[i] - basic_price) / basic_price\n",
    "print(return_rate_np.shape)\n",
    "# print(return_rate_np)\n",
    "\n",
    "mm_price_np = sc.fit_transform(price_np)\n",
    "print(f'\\nbefore Min-Max, mm_price_np.shape = {mm_price_np.shape}')\n",
    "# print(mm_price_np)\n",
    "print(f'before Min-Max, mm_price_np.shape = {mm_price_np.shape}')\n",
    "# print(mm_price_np)"
   ],
   "metadata": {
    "collapsed": false,
    "pycharm": {
     "name": "#%% 由价格数据获取收益率数据, 并对价格数据进行归一化\n"
    }
   }
  },
  {
   "cell_type": "code",
   "execution_count": 9,
   "outputs": [
    {
     "name": "stdout",
     "output_type": "stream",
     "text": [
      "PCA: n_components=3!\n",
      "pc_np.shape = (766, 3)\n",
      "[[-0.37009953  0.1669541  -0.01893828]\n",
      " [-0.39605942  0.13341782 -0.00259018]\n",
      " [-0.42566951  0.07831266  0.02895568]\n",
      " ...\n",
      " [-0.19362676  0.1454647   0.25653435]\n",
      " [-0.19844313  0.13530539  0.26612832]\n",
      " [-0.39493826  0.06084374  0.47058675]]\n",
      "PCA_MODEL.explained_variance_ratio_: [0.85602862 0.06713079 0.04658241]\n"
     ]
    }
   ],
   "source": [
    "# 设置主成分个数n_com\n",
    "print(f\"PCA: n_components={N_COM}!\")\n",
    "\n",
    "PCA_MODEL = PCA(n_components=N_COM)\n",
    "PCA_MODEL = PCA_MODEL.fit(mm_fc_np)\n",
    "pc_np = PCA_MODEL.transform(mm_fc_np) #获取新矩阵\n",
    "\n",
    "print(f'pc_np.shape = {pc_np.shape}')\n",
    "print(pc_np)\n",
    "print(f\"PCA_MODEL.explained_variance_ratio_: {PCA_MODEL.explained_variance_ratio_}\")"
   ],
   "metadata": {
    "collapsed": false,
    "pycharm": {
     "name": "#%% PCA对因子组合进行降维，得到主成分组合PC\n"
    }
   }
  },
  {
   "cell_type": "code",
   "execution_count": 10,
   "outputs": [
    {
     "name": "stdout",
     "output_type": "stream",
     "text": [
      "pc_np.shape = (766, 3)\n",
      "return_rate_np.shape = (766, 1)\n",
      "X.shape = (586, 150, 3)\n",
      "Y.shape = (586, 30)\n",
      "X_train.shape=(468, 150, 3)\n",
      "X_test.shape=(118, 150, 3)\n",
      "Y_train.shape=(468, 30)\n",
      "Y_test.shape=(118, 30)\n"
     ]
    }
   ],
   "source": [
    "# 设置滚动窗口大小w, 调仓频率f, 训练集占比tp\n",
    "# f = 30 在更早的时候设置了调仓频率\n",
    "\n",
    "print(f'pc_np.shape = {pc_np.shape}')\n",
    "# print(pc_np)\n",
    "print(f'return_rate_np.shape = {return_rate_np.shape}')\n",
    "# print(return_rate_np)\n",
    "\n",
    "# 建立自变量数据——w大小的滚动训练窗口的PC组合, 并且需要留空调仓频率长度末尾\n",
    "X = []\n",
    "for i in range(WINDOW, pc_np.shape[0] - FREQ):\n",
    "    X.append(pc_np[i - WINDOW:i, :])\n",
    "X = np.array(X)\n",
    "# X = X.reshape(X.shape[0], X.shape[1] * X.shape[2])\n",
    "print(f'X.shape = {X.shape}')\n",
    "# print(X)\n",
    "\n",
    "# 建立因变量数据\n",
    "Y = []\n",
    "# 将收益率作为因变量\n",
    "# for i in range(w, return_rate_np.shape[0] - f):\n",
    "#     Y.append(return_rate_np[i:i + f, :])\n",
    "# 将价格作为因变量(需要修改，对价格进行归一化)\n",
    "# for i in range(w, price_np.shape[0] - f):\n",
    "#     Y.append(price_np[i:i + f, :])\n",
    "# # 将归一化的价格作为因变量\n",
    "for i in range(WINDOW, mm_price_np.shape[0] - FREQ):\n",
    "    Y.append(mm_price_np[i:i + FREQ, :])\n",
    "\n",
    "Y = np.array(Y)\n",
    "Y = Y.reshape(Y.shape[0], Y.shape[1] * Y.shape[2])\n",
    "print(f'Y.shape = {Y.shape}')\n",
    "# print(Y)\n",
    "\n",
    "# 划分数据集\n",
    "X_train = X[0:int(X.shape[0] * TRAIN_PORTION)]\n",
    "X_test = X[int(X.shape[0] * TRAIN_PORTION):]\n",
    "Y_train = Y[0:int(Y.shape[0] * TRAIN_PORTION)]\n",
    "Y_test = Y[int(Y.shape[0] * TRAIN_PORTION):]\n",
    "print(\n",
    "    f'X_train.shape={X_train.shape}\\nX_test.shape={X_test.shape}\\nY_train.shape={Y_train.shape}\\nY_test.shape={Y_test.shape}'\n",
    ")"
   ],
   "metadata": {
    "collapsed": false,
    "pycharm": {
     "name": "#%% 建立训练集和预测集\n"
    }
   }
  },
  {
   "cell_type": "code",
   "execution_count": 11,
   "outputs": [
    {
     "name": "stdout",
     "output_type": "stream",
     "text": [
      "LSTM(\n",
      "  (lstm): LSTM(3, 90, batch_first=True)\n",
      "  (fc): Linear(in_features=90, out_features=30, bias=True)\n",
      ")\n",
      "Epoch: 0, loss: 0.434256\n",
      "Epoch: 1000, loss: 0.001241\n",
      "Epoch: 2000, loss: 0.000531\n",
      "Epoch: 3000, loss: 0.000274\n",
      "Epoch: 4000, loss: 0.000177\n",
      "Epoch: 5000, loss: 0.001396\n",
      "Epoch: 6000, loss: 0.000629\n",
      "Epoch: 7000, loss: 0.000385\n",
      "Epoch: 8000, loss: 0.002155\n",
      "Epoch: 9000, loss: 0.000578\n",
      "Epoch: 10000, loss: 0.000351\n",
      "Epoch: 11000, loss: 0.000221\n",
      "Epoch: 12000, loss: 0.000183\n",
      "Epoch: 13000, loss: 0.000145\n",
      "Epoch: 14000, loss: 0.000131\n",
      "Epoch: 15000, loss: 0.000094\n",
      "Epoch: 16000, loss: 0.000075\n",
      "Epoch: 17000, loss: 0.000048\n",
      "Epoch: 18000, loss: 0.000035\n",
      "Epoch: 19000, loss: 0.000022\n"
     ]
    }
   ],
   "source": [
    "import torch\n",
    "import torch.nn as nn\n",
    "from torch.autograd import Variable\n",
    "from sklearn.preprocessing import MinMaxScaler\n",
    "\n",
    "X_train_LSTM= Variable(torch.Tensor(X_train))\n",
    "X_test_LSTM= Variable(torch.Tensor(X_test))\n",
    "Y_train_LSTM= Variable(torch.Tensor(Y_train))\n",
    "Y_test_LSTM= Variable(torch.Tensor(Y_test))\n",
    "\n",
    "device = torch.device(0)\n",
    "\n",
    "class LSTM(nn.Module):\n",
    "\n",
    "    def __init__(self, num_classes, input_size, hidden_size, num_layers, seq_length):\n",
    "        super(LSTM, self).__init__()\n",
    "\n",
    "        self.num_classes = num_classes\n",
    "        self.num_layers = num_layers\n",
    "        self.input_size = input_size\n",
    "        self.hidden_size = hidden_size\n",
    "        self.seq_length = seq_length\n",
    "\n",
    "        self.lstm = self.init_hidden_lstm()\n",
    "\n",
    "        self.fc = self.init_hidden()\n",
    "\n",
    "    def init_hidden(self):\n",
    "        return (nn.Linear(self.hidden_size,self.num_classes).to(device)).to(device)\n",
    "\n",
    "    def init_hidden_lstm(self):\n",
    "        return (nn.LSTM(input_size=self.input_size, hidden_size=self.hidden_size,\n",
    "                            num_layers=self.num_layers, batch_first=True)).to(device)\n",
    "\n",
    "    def forward(self, x):\n",
    "        h_0 = Variable(torch.zeros(\n",
    "            self.num_layers, x.size(0), self.hidden_size)).to(device)\n",
    "\n",
    "        c_0 = Variable(torch.zeros(\n",
    "            self.num_layers, x.size(0), self.hidden_size)).to(device)\n",
    "\n",
    "        # Propagate input through LSTM\n",
    "        ula, (h_out, _) = self.lstm(x, (h_0, c_0))\n",
    "\n",
    "        h_out = h_out.view(-1, self.hidden_size).to(device)\n",
    "\n",
    "        out = self.fc(h_out).to(device)\n",
    "\n",
    "        return out\n",
    "\n",
    "# 设置模型参数\n",
    "LR = 0.01\n",
    "\n",
    "LSTM_MODEL = LSTM(num_classes=FREQ,\n",
    "                  input_size=N_COM,\n",
    "                  hidden_size=90,\n",
    "                  num_layers=1,\n",
    "                  seq_length=WINDOW)\n",
    "\n",
    "criterion = torch.nn.MSELoss()    # mean-squared error for regression\n",
    "optimizer = torch.optim.Adam(LSTM_MODEL.parameters(), lr=LR)\n",
    "#optimizer = torch.optim.SGD(lstm.parameters(), lr=learning_rate)\n",
    "\n",
    "LSTM_MODEL.to(device)\n",
    "print(LSTM_MODEL)\n",
    "\n",
    "mse = 0.1\n",
    "# Train the model\n",
    "for epoch in range(20000):\n",
    "    trainX = X_train_LSTM.to(device)\n",
    "    trainY = Y_train_LSTM.to(device)\n",
    "    outputs = LSTM_MODEL(trainX)\n",
    "    optimizer.zero_grad()\n",
    "\n",
    "    # obtain the loss function\n",
    "    loss = criterion(outputs, trainY)\n",
    "\n",
    "    loss.backward()\n",
    "\n",
    "    optimizer.step()\n",
    "    if epoch % 1000 == 0:\n",
    "        print(\"Epoch: %d, loss: %1.6f\" % (epoch, loss.item()))\n",
    "        torch.save(LSTM_MODEL, f'models/lstm_w{WINDOW}_f{FREQ}_tp{TRAIN_PORTION}_ncoms{N_COM}_mse_{\"%.6f\" % loss.item()}_epoch{epoch}.pth')"
   ],
   "metadata": {
    "collapsed": false,
    "pycharm": {
     "name": "#%% 将数据转为tensor, 并搭建模型\n"
    }
   }
  }
 ],
 "metadata": {
  "kernelspec": {
   "name": "py3.7torch",
   "language": "python",
   "display_name": "py3.7torch"
  },
  "language_info": {
   "codemirror_mode": {
    "name": "ipython",
    "version": 2
   },
   "file_extension": ".py",
   "mimetype": "text/x-python",
   "name": "python",
   "nbconvert_exporter": "python",
   "pygments_lexer": "ipython2",
   "version": "2.7.6"
  }
 },
 "nbformat": 4,
 "nbformat_minor": 0
}